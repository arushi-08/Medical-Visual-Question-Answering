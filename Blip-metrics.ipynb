{
 "cells": [
  {
   "cell_type": "code",
   "execution_count": 34,
   "id": "d13c3e33-7c9c-4818-b4ff-188c372022ba",
   "metadata": {},
   "outputs": [],
   "source": [
    "from datasets import load_dataset\n",
    "\n",
    "dataset = load_dataset(\"BoKelvin/SLAKE\", split=\"train\").select(range(2000))\n",
    "test_dataset = load_dataset(\"BoKelvin/SLAKE\", split=\"test\").select(range(200))\n"
   ]
  },
  {
   "cell_type": "code",
   "execution_count": 35,
   "id": "89fb5150-cf1b-4575-91a8-5d5bb2d5d9cd",
   "metadata": {},
   "outputs": [
    {
     "data": {
      "text/plain": [
       "Dataset({\n",
       "    features: ['img_name', 'location', 'answer', 'modality', 'base_type', 'answer_type', 'question', 'qid', 'content_type', 'triple', 'img_id', 'q_lang'],\n",
       "    num_rows: 2000\n",
       "})"
      ]
     },
     "execution_count": 35,
     "metadata": {},
     "output_type": "execute_result"
    }
   ],
   "source": [
    "dataset"
   ]
  },
  {
   "cell_type": "code",
   "execution_count": 36,
   "id": "ae4691d8-6b28-4c94-8990-e48fe92fc896",
   "metadata": {},
   "outputs": [
    {
     "data": {
      "text/plain": [
       "Dataset({\n",
       "    features: ['img_name', 'location', 'answer', 'modality', 'base_type', 'answer_type', 'question', 'qid', 'content_type', 'triple', 'img_id', 'q_lang'],\n",
       "    num_rows: 200\n",
       "})"
      ]
     },
     "execution_count": 36,
     "metadata": {},
     "output_type": "execute_result"
    }
   ],
   "source": [
    "test_dataset"
   ]
  },
  {
   "cell_type": "code",
   "execution_count": null,
   "id": "15605e5c-01ce-489a-aa51-559dd0d8df2b",
   "metadata": {},
   "outputs": [],
   "source": []
  },
  {
   "cell_type": "code",
   "execution_count": 2,
   "id": "facabce0-4013-4fc4-a358-e5d492bd60c5",
   "metadata": {},
   "outputs": [
    {
     "name": "stdout",
     "output_type": "stream",
     "text": [
      "Max cuda memory used: 0\n"
     ]
    }
   ],
   "source": [
    "import torch\n",
    "device = 'cuda'\n",
    "\n",
    "print(\"Max cuda memory used:\", torch.cuda.max_memory_allocated(device=device))"
   ]
  },
  {
   "cell_type": "code",
   "execution_count": 14,
   "id": "0f99d3c5-9de5-47d5-8ee0-618000fd7695",
   "metadata": {},
   "outputs": [
    {
     "data": {
      "text/plain": [
       "['blip2', 'blip-vqa-rad-model', 'blip-path-vqa-model']"
      ]
     },
     "execution_count": 14,
     "metadata": {},
     "output_type": "execute_result"
    }
   ],
   "source": [
    "import os\n",
    "import json\n",
    "import pickle\n",
    "\n",
    "dr = 'download/download/'\n",
    "models = os.listdir(dr)\n",
    "models.sort(reverse=True)\n",
    "models"
   ]
  },
  {
   "cell_type": "code",
   "execution_count": 53,
   "id": "6c9209f6-bcfb-47e0-ba3a-1181ea583713",
   "metadata": {},
   "outputs": [],
   "source": [
    "# fig, ax = plt.subplots(1, 3, figsize=(12, 4))\n",
    "# sns.barplot(stats, x='rnn_module', y='loss', hue='mode', ax=ax[0])\n",
    "# sns.barplot(stats, x='rnn_module', y='acc', hue='mode', ax=ax[1])\n",
    "# sns.barplot(stats, x='rnn_module', y='time', ax=ax[2])\n"
   ]
  },
  {
   "cell_type": "code",
   "execution_count": 68,
   "id": "1233bf9d-a942-4a2f-914b-317b7a1e2aad",
   "metadata": {},
   "outputs": [
    {
     "name": "stdout",
     "output_type": "stream",
     "text": [
      "blip2\n",
      "blip-vqa-rad-model\n",
      "blip-path-vqa-model\n"
     ]
    },
    {
     "data": {
      "text/html": [
       "<div>\n",
       "<style scoped>\n",
       "    .dataframe tbody tr th:only-of-type {\n",
       "        vertical-align: middle;\n",
       "    }\n",
       "\n",
       "    .dataframe tbody tr th {\n",
       "        vertical-align: top;\n",
       "    }\n",
       "\n",
       "    .dataframe thead th {\n",
       "        text-align: right;\n",
       "    }\n",
       "</style>\n",
       "<table border=\"1\" class=\"dataframe\">\n",
       "  <thead>\n",
       "    <tr style=\"text-align: right;\">\n",
       "      <th></th>\n",
       "      <th>loss</th>\n",
       "      <th>similarity</th>\n",
       "      <th>exact_match</th>\n",
       "    </tr>\n",
       "    <tr>\n",
       "      <th>model-dataset</th>\n",
       "      <th></th>\n",
       "      <th></th>\n",
       "      <th></th>\n",
       "    </tr>\n",
       "  </thead>\n",
       "  <tbody>\n",
       "    <tr>\n",
       "      <th>blip2 + vqa-rad</th>\n",
       "      <td>2.997172</td>\n",
       "      <td>0.02622</td>\n",
       "      <td>0.308204</td>\n",
       "    </tr>\n",
       "    <tr>\n",
       "      <th>blip + vqa-rad</th>\n",
       "      <td>0.347358</td>\n",
       "      <td>0.31827</td>\n",
       "      <td>0.297118</td>\n",
       "    </tr>\n",
       "    <tr>\n",
       "      <th>blip + path-vqa</th>\n",
       "      <td>0.62087</td>\n",
       "      <td>0.382423</td>\n",
       "      <td>0.288</td>\n",
       "    </tr>\n",
       "  </tbody>\n",
       "</table>\n",
       "</div>"
      ],
      "text/plain": [
       "                     loss similarity exact_match\n",
       "model-dataset                                   \n",
       "blip2 + vqa-rad  2.997172    0.02622    0.308204\n",
       "blip + vqa-rad   0.347358    0.31827    0.297118\n",
       "blip + path-vqa   0.62087   0.382423       0.288"
      ]
     },
     "execution_count": 68,
     "metadata": {},
     "output_type": "execute_result"
    }
   ],
   "source": [
    "import seaborn as sns\n",
    "\n",
    "stats = pd.DataFrame(columns=['model-dataset', 'loss', 'similarity', 'exact_match']);\n",
    "stats.set_index(['model-dataset'], inplace=True)\n",
    "\n",
    "md = {\n",
    "    'blip2': 'blip2 + vqa-rad',\n",
    "    'blip-vqa-rad-model': 'blip + vqa-rad',\n",
    "    'blip-path-vqa-model': 'blip + path-vqa',\n",
    "}\n",
    "\n",
    "for model in models:\n",
    "    dp = os.path.join(dr, model)\n",
    "    # display(os.listdir(dp))\n",
    "    print(model)\n",
    "    with open(f\"{dp}/answers.json\", 'r') as rf:\n",
    "        answers = json.load(rf)\n",
    "    with open(f\"{dp}/predicted_answers.json\", 'r') as rf:\n",
    "        predicted_answers = json.load(rf)\n",
    "    with open(f\"{dp}/tracking_information.pkl\", 'rb') as rf:\n",
    "        tracking_information = pickle.load(rf)\n",
    "    m = compute_metrics(answers, predicted_answers)\n",
    "    # print(tracking_information[9][1], len(tracking_information))\n",
    "    stats.loc[md[model], 'loss'] = tracking_information[9][1]\n",
    "    stats.loc[md[model], 'similarity'] = m['similarity']\n",
    "    stats.loc[md[model], 'exact_match'] = m['exact_match']\n",
    "    # display(m)\n",
    "    # break\n",
    "stats"
   ]
  },
  {
   "cell_type": "code",
   "execution_count": 70,
   "id": "4fe7fa82-da54-4019-a263-dc741e7bacb7",
   "metadata": {},
   "outputs": [
    {
     "data": {
      "image/png": "[encoded data removed]",
      "text/plain": [
       "<Figure size 1200x400 with 3 Axes>"
      ]
     },
     "metadata": {},
     "output_type": "display_data"
    }
   ],
   "source": [
    "fig, ax = plt.subplots(1, 3, figsize=(12, 4))\n",
    "sns.barplot(stats, x='model-dataset', y='loss', hue='model-dataset', ax=ax[0])\n",
    "sns.barplot(stats, x='model-dataset', y='similarity', hue='model-dataset', ax=ax[1])\n",
    "sns.barplot(stats, x='model-dataset', y='exact_match', hue='model-dataset', ax=ax[2])\n",
    "\n",
    "for i, a in enumerate(ax):\n",
    "    a.tick_params(axis='x', labelrotation=45)\n",
    "fig.tight_layout()\n",
    "fig.canvas.draw()\n",
    "plt.savefig(\"blip2-blip-vqa.svg\")"
   ]
  },
  {
   "cell_type": "code",
   "execution_count": 31,
   "id": "b5d90191-542f-4a18-9397-cb6d4e71bc36",
   "metadata": {},
   "outputs": [],
   "source": [
    "from collections import defaultdict\n",
    "import sys, os, argparse, time, tqdm\n",
    "from collections import defaultdict\n",
    "import numpy as np\n",
    "import pandas as pd\n",
    "import torch\n",
    "# import datasets, peft, evaluate\n",
    "import datasets, evaluate\n",
    "bleu_score_metric = evaluate.load('bleu')\n",
    "from difflib import SequenceMatcher\n",
    "import matplotlib.pyplot as plt\n",
    "\n",
    "def compute_metrics(true_answers, pred_answers):\n",
    "    m = defaultdict(list)\n",
    "    for i in range(len(true_answers)):\n",
    "        true_answer = true_answers[i]\n",
    "        pred_answer = pred_answers[i]\n",
    "        if not pred_answer.strip():\n",
    "            pred_answer = '_'\n",
    "\n",
    "        similarity = SequenceMatcher(a=true_answer, b=pred_answer).ratio()\n",
    "        exact_match = int(true_answer == pred_answer)\n",
    "        if true_answer in ['yes','no']:\n",
    "            exact_match = int(pred_answer.startswith(true_answer))\n",
    "        m['exact_match'].append(exact_match)\n",
    "        m['similarity'].append(similarity)\n",
    "        \n",
    "    m = {k: np.mean(v) for k, v in m.items()}\n",
    "    \n",
    "    try:\n",
    "        bleu_result = bleu_score_metric.compute(\n",
    "            predictions=pred_answers, references=true_answers\n",
    "        )\n",
    "    except ZeroDivisionError:\n",
    "        print((true_answers, pred_answers))\n",
    "        raise\n",
    "    m['bleu_score'] = bleu_result['bleu']\n",
    "    m['precision1'] = bleu_result['precisions'][0]\n",
    "    m['precision2'] = bleu_result['precisions'][1]\n",
    "    m['precision3'] = bleu_result['precisions'][2]\n",
    "    m['precision4'] = bleu_result['precisions'][3]\n",
    "    return m"
   ]
  },
  {
   "cell_type": "code",
   "execution_count": null,
   "id": "2cc10c2e-7213-43a0-93d2-520ba088c849",
   "metadata": {},
   "outputs": [],
   "source": []
  }
 ],
 "metadata": {
  "kernelspec": {
   "display_name": "Python 3 (ipykernel)",
   "language": "python",
   "name": "python3"
  },
  "language_info": {
   "codemirror_mode": {
    "name": "ipython",
    "version": 3
   },
   "file_extension": ".py",
   "mimetype": "text/x-python",
   "name": "python",
   "nbconvert_exporter": "python",
   "pygments_lexer": "ipython3",
   "version": "3.10.14"
  }
 },
 "nbformat": 4,
 "nbformat_minor": 5
}
